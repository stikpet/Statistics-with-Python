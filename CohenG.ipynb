{
 "cells": [
  {
   "cell_type": "markdown",
   "metadata": {},
   "source": [
    "# Cohen's g\n",
    "*By P. Stikker*<br>\n",
    "https://PeterStatistics.com<br>\n",
    "https://www.youtube.com/stikpet"
   ]
  },
  {
   "cell_type": "code",
   "execution_count": 1,
   "metadata": {},
   "outputs": [],
   "source": [
    "import pandas as pd\n",
    "import numpy as np\n",
    "import pyreadstat  # to load the example data"
   ]
  },
  {
   "cell_type": "markdown",
   "metadata": {},
   "source": [
    "Unfortunately for the one-sample binomial test, there is not much written about reporting an effect size. Rosnow and Rosenthal (2003) mention as effect size for binary (they call it dichotomous) data Cohen's g and Cohen's h. Cohen's h is also the effect size used for two proportions in the NCSS software (n.d.). JonB (2015) on CrossValidated suggests to use Relative Risks, which the NCSS calls Alternative Ratio (n.d.-a)."
   ]
  },
  {
   "cell_type": "markdown",
   "metadata": {},
   "source": [
    "Cohen's g can be calculated by (Cohen, 1988, p. 147):\n",
    "\n",
    "\\begin{equation*}\n",
    "g = P - 0.50\n",
    "\\end{equation*}\n",
    "\n",
    "It is simply the actual proportion ($P$) minus the expected 0.5. You can also take the absolute value of this to get the 'nondirectional' version."
   ]
  },
  {
   "cell_type": "markdown",
   "metadata": {},
   "source": [
    "To see how this works, lets load some example data"
   ]
  },
  {
   "cell_type": "code",
   "execution_count": 2,
   "metadata": {},
   "outputs": [],
   "source": [
    "myDf, meta = pyreadstat.read_sav(\"StudentStatistics.sav\")"
   ]
  },
  {
   "cell_type": "markdown",
   "metadata": {},
   "source": [
    "Lets use gender as an example."
   ]
  },
  {
   "cell_type": "code",
   "execution_count": 3,
   "metadata": {},
   "outputs": [
    {
     "data": {
      "text/plain": [
       "2.0    34\n",
       "1.0    12\n",
       "Name: Gen_Gender, dtype: int64"
      ]
     },
     "execution_count": 3,
     "metadata": {},
     "output_type": "execute_result"
    }
   ],
   "source": [
    "myCd = myDf['Gen_Gender'].value_counts()\n",
    "myCd"
   ]
  },
  {
   "cell_type": "markdown",
   "metadata": {},
   "source": [
    "The value_counts returns a dictionary, so we can get the sum of the values by using:"
   ]
  },
  {
   "cell_type": "code",
   "execution_count": 4,
   "metadata": {},
   "outputs": [
    {
     "data": {
      "text/plain": [
       "46"
      ]
     },
     "execution_count": 4,
     "metadata": {},
     "output_type": "execute_result"
    }
   ],
   "source": [
    "mySum = sum(myCd.values)\n",
    "mySum"
   ]
  },
  {
   "cell_type": "markdown",
   "metadata": {},
   "source": [
    "Lets simply pick the first found value in myCd:"
   ]
  },
  {
   "cell_type": "code",
   "execution_count": 5,
   "metadata": {},
   "outputs": [
    {
     "data": {
      "text/plain": [
       "34"
      ]
     },
     "execution_count": 5,
     "metadata": {},
     "output_type": "execute_result"
    }
   ],
   "source": [
    "myX = myCd.values[0]\n",
    "myX"
   ]
  },
  {
   "cell_type": "markdown",
   "metadata": {},
   "source": [
    "Now to calculate Cohen's g:"
   ]
  },
  {
   "cell_type": "code",
   "execution_count": 6,
   "metadata": {},
   "outputs": [
    {
     "data": {
      "text/plain": [
       "0.23913043478260865"
      ]
     },
     "execution_count": 6,
     "metadata": {},
     "output_type": "execute_result"
    }
   ],
   "source": [
    "CohenG = myX/mySum - 0.5\n",
    "CohenG"
   ]
  },
  {
   "cell_type": "markdown",
   "metadata": {},
   "source": [
    "The maximum value for Cohen's g would be 0.5, which would occur if the sample proportion for one of the two categories is either 0 (0%) or 1 (100%).\n",
    "\n",
    "Cohen actually gives thresholds for 'small', 'medium', and 'large' effect sizes for this g at .05, .15, and .25 resp. (Cohen, 1988, pp. 147-149). I would interpret this as:\n",
    "\n",
    "|\\|Cohen g\\|| Interpretation|\n",
    "|-------|---------------|\n",
    "|0 < .05| Negligible|\n",
    "|0.10 < 0.15 |Small|\n",
    "|0.15 < 0.25| Medium|\n",
    "|0.25 or more| Large|\n",
    "\n",
    "The 0.24 in the example would just still be considered 'Medium'. We can of course let Python do the 'looking in a table' for us:"
   ]
  },
  {
   "cell_type": "code",
   "execution_count": 7,
   "metadata": {},
   "outputs": [
    {
     "name": "stdout",
     "output_type": "stream",
     "text": [
      "Medium\n"
     ]
    }
   ],
   "source": [
    "CohenGnonDir = abs(CohenG)\n",
    "if CohenGnonDir < .05:\n",
    "    print('Negligible')\n",
    "elif CohenGnonDir < .15:\n",
    "    print('Small')\n",
    "elif CohenGnonDir < .25:\n",
    "    print('Medium')\n",
    "else:\n",
    "    print('Large')    "
   ]
  },
  {
   "cell_type": "markdown",
   "metadata": {},
   "source": [
    "In case you prefer not to do this each time, below a quick function:"
   ]
  },
  {
   "cell_type": "code",
   "execution_count": 8,
   "metadata": {},
   "outputs": [],
   "source": [
    "# this function takes a proportion (a value between 0 and 1) as input and will return Cohen's nondirectional g, and an interpretation.\n",
    "\n",
    "def cohenG(prop):\n",
    "    cohensGdir = prop-0.5\n",
    "    cohensGnondir = abs(cohensGdir)\n",
    "    print('Cohen\\'s directional g: = ' + str(cohensGdir))\n",
    "    print('Cohen\\'s nondirectional g: = ' + str(cohensGnondir))\n",
    "\n",
    "    # for the interpretation\n",
    "    myText = 'Using Cohen\\'s qualification this could be considered: '\n",
    "    if CohenGnonDir < .05:\n",
    "        qual = 'Negligible'\n",
    "    elif CohenGnonDir < .15:\n",
    "        qual = 'Small'\n",
    "    elif CohenGnonDir < .25:\n",
    "        qual = 'Medium'\n",
    "    else:\n",
    "        qual = 'Large'\n",
    "    print(myText + qual)\n",
    "    \n",
    "    # return Cohen's g and qualification\n",
    "    return cohensGdir, qual"
   ]
  },
  {
   "cell_type": "markdown",
   "metadata": {},
   "source": [
    "Lets see if it works:"
   ]
  },
  {
   "cell_type": "code",
   "execution_count": 9,
   "metadata": {},
   "outputs": [
    {
     "name": "stdout",
     "output_type": "stream",
     "text": [
      "Cohen's directional g: = 0.23913043478260865\n",
      "Cohen's nondirectional g: = 0.23913043478260865\n",
      "Using Cohen's qualification this could be considered: Medium\n"
     ]
    },
    {
     "data": {
      "text/plain": [
       "(0.23913043478260865, 'Medium')"
      ]
     },
     "execution_count": 9,
     "metadata": {},
     "output_type": "execute_result"
    }
   ],
   "source": [
    "cohenG(myX/mySum)"
   ]
  },
  {
   "cell_type": "markdown",
   "metadata": {},
   "source": [
    "## References\n",
    "Cohen, J. (1988). *Statistical power analysis for the behavioral sciences* (2nd ed). Hillsdale, N.J: L. Erlbaum Associates.\n",
    "\n",
    "JonB. (2015, October 14). Effect size of a binomial test and its relation to other measures of effect size. Retrieved from https://stats.stackexchange.com/q/176856\n",
    "\n",
    "NCSS. (n.d.). Tests for two proportions using effect size. In PASS Sample Size Software (pp. 199-1-199–10). Retrieved from https://ncss-wpengine.netdna-ssl.com/wp-content/themes/ncss/pdf/Procedures/PASS/Tests_for_Two_Proportions_using_Effect_Size.pdf\n",
    "\n",
    "Rosnow, R. L., & Rosenthal, R. (2003). Effect sizes for experimenting psychologists. *Canadian Journal of Experimental Psychology/Revue Canadienne de Psychologie Expérimentale, 57*(3), 221–237. doi:10.1037/h0087427"
   ]
  },
  {
   "cell_type": "code",
   "execution_count": null,
   "metadata": {},
   "outputs": [],
   "source": []
  }
 ],
 "metadata": {
  "kernelspec": {
   "display_name": "Python 3",
   "language": "python",
   "name": "python3"
  },
  "language_info": {
   "codemirror_mode": {
    "name": "ipython",
    "version": 3
   },
   "file_extension": ".py",
   "mimetype": "text/x-python",
   "name": "python",
   "nbconvert_exporter": "python",
   "pygments_lexer": "ipython3",
   "version": "3.8.2"
  }
 },
 "nbformat": 4,
 "nbformat_minor": 4
}
