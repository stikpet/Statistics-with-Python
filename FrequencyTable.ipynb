{
 "cells": [
  {
   "cell_type": "markdown",
   "metadata": {},
   "source": [
    "# Frequency table\n",
    "*By P. Stikker*<br>\n",
    "https://PeterStatistics.com<br>\n",
    "https://www.youtube.com/stikpet"
   ]
  },
  {
   "cell_type": "code",
   "execution_count": 1,
   "metadata": {},
   "outputs": [],
   "source": [
    "import pandas as pd\n",
    "import numpy as np"
   ]
  },
  {
   "cell_type": "markdown",
   "metadata": {},
   "source": [
    "The example data I'm using is coming from an SPSS file. To get this in Python, I'm using the 'pyreadstat' library. See https://ofajardo.github.io/pyreadstat_documentation/_build/html/index.html for details"
   ]
  },
  {
   "cell_type": "code",
   "execution_count": 2,
   "metadata": {},
   "outputs": [],
   "source": [
    "import pyreadstat"
   ]
  },
  {
   "cell_type": "markdown",
   "metadata": {},
   "source": [
    "Now to get my data."
   ]
  },
  {
   "cell_type": "code",
   "execution_count": 3,
   "metadata": {},
   "outputs": [],
   "source": [
    "myDf, meta = pyreadstat.read_sav(\"FilmPreferences2.sav\")"
   ]
  },
  {
   "cell_type": "code",
   "execution_count": 4,
   "metadata": {},
   "outputs": [
    {
     "data": {
      "text/html": [
       "<div>\n",
       "<style scoped>\n",
       "    .dataframe tbody tr th:only-of-type {\n",
       "        vertical-align: middle;\n",
       "    }\n",
       "\n",
       "    .dataframe tbody tr th {\n",
       "        vertical-align: top;\n",
       "    }\n",
       "\n",
       "    .dataframe thead th {\n",
       "        text-align: right;\n",
       "    }\n",
       "</style>\n",
       "<table border=\"1\" class=\"dataframe\">\n",
       "  <thead>\n",
       "    <tr style=\"text-align: right;\">\n",
       "      <th></th>\n",
       "      <th>sex</th>\n",
       "      <th>age</th>\n",
       "      <th>educat</th>\n",
       "      <th>income</th>\n",
       "      <th>thriller</th>\n",
       "      <th>horror</th>\n",
       "      <th>comedy</th>\n",
       "      <th>adventur</th>\n",
       "      <th>docu</th>\n",
       "      <th>roman</th>\n",
       "      <th>munt</th>\n",
       "      <th>movies</th>\n",
       "      <th>tuschin</th>\n",
       "      <th>arena</th>\n",
       "    </tr>\n",
       "  </thead>\n",
       "  <tbody>\n",
       "    <tr>\n",
       "      <th>0</th>\n",
       "      <td>0.0</td>\n",
       "      <td>25.0</td>\n",
       "      <td>2.0</td>\n",
       "      <td>2000.0</td>\n",
       "      <td>6.0</td>\n",
       "      <td>3.0</td>\n",
       "      <td>6.0</td>\n",
       "      <td>6.0</td>\n",
       "      <td>9.0</td>\n",
       "      <td>6.0</td>\n",
       "      <td>0.0</td>\n",
       "      <td>0.0</td>\n",
       "      <td>0.0</td>\n",
       "      <td>0.0</td>\n",
       "    </tr>\n",
       "    <tr>\n",
       "      <th>1</th>\n",
       "      <td>0.0</td>\n",
       "      <td>33.0</td>\n",
       "      <td>2.0</td>\n",
       "      <td>2350.0</td>\n",
       "      <td>4.0</td>\n",
       "      <td>2.0</td>\n",
       "      <td>7.0</td>\n",
       "      <td>8.0</td>\n",
       "      <td>4.0</td>\n",
       "      <td>7.0</td>\n",
       "      <td>0.0</td>\n",
       "      <td>0.0</td>\n",
       "      <td>0.0</td>\n",
       "      <td>1.0</td>\n",
       "    </tr>\n",
       "    <tr>\n",
       "      <th>2</th>\n",
       "      <td>0.0</td>\n",
       "      <td>44.0</td>\n",
       "      <td>3.0</td>\n",
       "      <td>4500.0</td>\n",
       "      <td>6.0</td>\n",
       "      <td>3.0</td>\n",
       "      <td>7.0</td>\n",
       "      <td>8.0</td>\n",
       "      <td>8.0</td>\n",
       "      <td>7.0</td>\n",
       "      <td>1.0</td>\n",
       "      <td>1.0</td>\n",
       "      <td>1.0</td>\n",
       "      <td>0.0</td>\n",
       "    </tr>\n",
       "    <tr>\n",
       "      <th>3</th>\n",
       "      <td>0.0</td>\n",
       "      <td>53.0</td>\n",
       "      <td>3.0</td>\n",
       "      <td>5800.0</td>\n",
       "      <td>4.0</td>\n",
       "      <td>1.0</td>\n",
       "      <td>5.0</td>\n",
       "      <td>9.0</td>\n",
       "      <td>7.0</td>\n",
       "      <td>4.0</td>\n",
       "      <td>1.0</td>\n",
       "      <td>1.0</td>\n",
       "      <td>1.0</td>\n",
       "      <td>0.0</td>\n",
       "    </tr>\n",
       "    <tr>\n",
       "      <th>4</th>\n",
       "      <td>0.0</td>\n",
       "      <td>64.0</td>\n",
       "      <td>2.0</td>\n",
       "      <td>4450.0</td>\n",
       "      <td>5.0</td>\n",
       "      <td>4.0</td>\n",
       "      <td>6.0</td>\n",
       "      <td>9.0</td>\n",
       "      <td>9.0</td>\n",
       "      <td>8.0</td>\n",
       "      <td>1.0</td>\n",
       "      <td>0.0</td>\n",
       "      <td>0.0</td>\n",
       "      <td>0.0</td>\n",
       "    </tr>\n",
       "  </tbody>\n",
       "</table>\n",
       "</div>"
      ],
      "text/plain": [
       "   sex   age  educat  income  thriller  horror  comedy  adventur  docu  roman  \\\n",
       "0  0.0  25.0     2.0  2000.0       6.0     3.0     6.0       6.0   9.0    6.0   \n",
       "1  0.0  33.0     2.0  2350.0       4.0     2.0     7.0       8.0   4.0    7.0   \n",
       "2  0.0  44.0     3.0  4500.0       6.0     3.0     7.0       8.0   8.0    7.0   \n",
       "3  0.0  53.0     3.0  5800.0       4.0     1.0     5.0       9.0   7.0    4.0   \n",
       "4  0.0  64.0     2.0  4450.0       5.0     4.0     6.0       9.0   9.0    8.0   \n",
       "\n",
       "   munt  movies  tuschin  arena  \n",
       "0   0.0     0.0      0.0    0.0  \n",
       "1   0.0     0.0      0.0    1.0  \n",
       "2   1.0     1.0      1.0    0.0  \n",
       "3   1.0     1.0      1.0    0.0  \n",
       "4   1.0     0.0      0.0    0.0  "
      ]
     },
     "execution_count": 4,
     "metadata": {},
     "output_type": "execute_result"
    }
   ],
   "source": [
    "myDf.head()"
   ]
  },
  {
   "cell_type": "markdown",
   "metadata": {},
   "source": [
    "Lets start building a frequency table. First the counts of a column."
   ]
  },
  {
   "cell_type": "code",
   "execution_count": 5,
   "metadata": {},
   "outputs": [
    {
     "data": {
      "text/plain": [
       "2.0    70\n",
       "1.0    45\n",
       "3.0    35\n",
       "Name: educat, dtype: int64"
      ]
     },
     "execution_count": 5,
     "metadata": {},
     "output_type": "execute_result"
    }
   ],
   "source": [
    "myFreqTable = myDf['educat'].value_counts()\n",
    "myFreqTable"
   ]
  },
  {
   "cell_type": "markdown",
   "metadata": {},
   "source": [
    "This is actually a so-called 'dictionary'. I'll first convert this to a numpy array:"
   ]
  },
  {
   "cell_type": "code",
   "execution_count": 6,
   "metadata": {},
   "outputs": [],
   "source": [
    "myFreqTable = np.array([myFreqTable.keys(),myFreqTable.values])\n",
    "myFreqTable = np.swapaxes(myFreqTable,0,1)"
   ]
  },
  {
   "cell_type": "code",
   "execution_count": 7,
   "metadata": {},
   "outputs": [
    {
     "data": {
      "text/plain": [
       "array([[ 2., 70.],\n",
       "       [ 1., 45.],\n",
       "       [ 3., 35.]])"
      ]
     },
     "execution_count": 7,
     "metadata": {},
     "output_type": "execute_result"
    }
   ],
   "source": [
    "myFreqTable"
   ]
  },
  {
   "cell_type": "markdown",
   "metadata": {},
   "source": [
    "Then into a panda dataframe, so it will look a bit nicer:"
   ]
  },
  {
   "cell_type": "code",
   "execution_count": 8,
   "metadata": {},
   "outputs": [],
   "source": [
    "myFreqTable = pd.DataFrame(data=myFreqTable,columns=['educat', 'Frequency'])"
   ]
  },
  {
   "cell_type": "code",
   "execution_count": 9,
   "metadata": {},
   "outputs": [
    {
     "data": {
      "text/html": [
       "<div>\n",
       "<style scoped>\n",
       "    .dataframe tbody tr th:only-of-type {\n",
       "        vertical-align: middle;\n",
       "    }\n",
       "\n",
       "    .dataframe tbody tr th {\n",
       "        vertical-align: top;\n",
       "    }\n",
       "\n",
       "    .dataframe thead th {\n",
       "        text-align: right;\n",
       "    }\n",
       "</style>\n",
       "<table border=\"1\" class=\"dataframe\">\n",
       "  <thead>\n",
       "    <tr style=\"text-align: right;\">\n",
       "      <th></th>\n",
       "      <th>educat</th>\n",
       "      <th>Frequency</th>\n",
       "    </tr>\n",
       "  </thead>\n",
       "  <tbody>\n",
       "    <tr>\n",
       "      <th>0</th>\n",
       "      <td>2.0</td>\n",
       "      <td>70.0</td>\n",
       "    </tr>\n",
       "    <tr>\n",
       "      <th>1</th>\n",
       "      <td>1.0</td>\n",
       "      <td>45.0</td>\n",
       "    </tr>\n",
       "    <tr>\n",
       "      <th>2</th>\n",
       "      <td>3.0</td>\n",
       "      <td>35.0</td>\n",
       "    </tr>\n",
       "  </tbody>\n",
       "</table>\n",
       "</div>"
      ],
      "text/plain": [
       "   educat  Frequency\n",
       "0     2.0       70.0\n",
       "1     1.0       45.0\n",
       "2     3.0       35.0"
      ]
     },
     "execution_count": 9,
     "metadata": {},
     "output_type": "execute_result"
    }
   ],
   "source": [
    "myFreqTable"
   ]
  },
  {
   "cell_type": "markdown",
   "metadata": {},
   "source": [
    "The order seems a bit off. Lets fix that:"
   ]
  },
  {
   "cell_type": "code",
   "execution_count": 10,
   "metadata": {},
   "outputs": [
    {
     "data": {
      "text/html": [
       "<div>\n",
       "<style scoped>\n",
       "    .dataframe tbody tr th:only-of-type {\n",
       "        vertical-align: middle;\n",
       "    }\n",
       "\n",
       "    .dataframe tbody tr th {\n",
       "        vertical-align: top;\n",
       "    }\n",
       "\n",
       "    .dataframe thead th {\n",
       "        text-align: right;\n",
       "    }\n",
       "</style>\n",
       "<table border=\"1\" class=\"dataframe\">\n",
       "  <thead>\n",
       "    <tr style=\"text-align: right;\">\n",
       "      <th></th>\n",
       "      <th>educat</th>\n",
       "      <th>Frequency</th>\n",
       "    </tr>\n",
       "  </thead>\n",
       "  <tbody>\n",
       "    <tr>\n",
       "      <th>0</th>\n",
       "      <td>1.0</td>\n",
       "      <td>45.0</td>\n",
       "    </tr>\n",
       "    <tr>\n",
       "      <th>1</th>\n",
       "      <td>2.0</td>\n",
       "      <td>70.0</td>\n",
       "    </tr>\n",
       "    <tr>\n",
       "      <th>2</th>\n",
       "      <td>3.0</td>\n",
       "      <td>35.0</td>\n",
       "    </tr>\n",
       "  </tbody>\n",
       "</table>\n",
       "</div>"
      ],
      "text/plain": [
       "   educat  Frequency\n",
       "0     1.0       45.0\n",
       "1     2.0       70.0\n",
       "2     3.0       35.0"
      ]
     },
     "execution_count": 10,
     "metadata": {},
     "output_type": "execute_result"
    }
   ],
   "source": [
    "myFreqTable = myFreqTable.sort_values(by=['educat'])\n",
    "myFreqTable = myFreqTable.reset_index(drop=True)\n",
    "myFreqTable"
   ]
  },
  {
   "cell_type": "markdown",
   "metadata": {},
   "source": [
    "The frequencies are of course integers, so:"
   ]
  },
  {
   "cell_type": "code",
   "execution_count": 11,
   "metadata": {},
   "outputs": [
    {
     "data": {
      "text/html": [
       "<div>\n",
       "<style scoped>\n",
       "    .dataframe tbody tr th:only-of-type {\n",
       "        vertical-align: middle;\n",
       "    }\n",
       "\n",
       "    .dataframe tbody tr th {\n",
       "        vertical-align: top;\n",
       "    }\n",
       "\n",
       "    .dataframe thead th {\n",
       "        text-align: right;\n",
       "    }\n",
       "</style>\n",
       "<table border=\"1\" class=\"dataframe\">\n",
       "  <thead>\n",
       "    <tr style=\"text-align: right;\">\n",
       "      <th></th>\n",
       "      <th>educat</th>\n",
       "      <th>Frequency</th>\n",
       "    </tr>\n",
       "  </thead>\n",
       "  <tbody>\n",
       "    <tr>\n",
       "      <th>0</th>\n",
       "      <td>1.0</td>\n",
       "      <td>45</td>\n",
       "    </tr>\n",
       "    <tr>\n",
       "      <th>1</th>\n",
       "      <td>2.0</td>\n",
       "      <td>70</td>\n",
       "    </tr>\n",
       "    <tr>\n",
       "      <th>2</th>\n",
       "      <td>3.0</td>\n",
       "      <td>35</td>\n",
       "    </tr>\n",
       "  </tbody>\n",
       "</table>\n",
       "</div>"
      ],
      "text/plain": [
       "   educat  Frequency\n",
       "0     1.0         45\n",
       "1     2.0         70\n",
       "2     3.0         35"
      ]
     },
     "execution_count": 11,
     "metadata": {},
     "output_type": "execute_result"
    }
   ],
   "source": [
    "myFreqTable = myFreqTable.astype({'Frequency': 'int32'})\n",
    "myFreqTable"
   ]
  },
  {
   "cell_type": "markdown",
   "metadata": {},
   "source": [
    "Add the percentages:"
   ]
  },
  {
   "cell_type": "code",
   "execution_count": 12,
   "metadata": {},
   "outputs": [
    {
     "data": {
      "text/html": [
       "<div>\n",
       "<style scoped>\n",
       "    .dataframe tbody tr th:only-of-type {\n",
       "        vertical-align: middle;\n",
       "    }\n",
       "\n",
       "    .dataframe tbody tr th {\n",
       "        vertical-align: top;\n",
       "    }\n",
       "\n",
       "    .dataframe thead th {\n",
       "        text-align: right;\n",
       "    }\n",
       "</style>\n",
       "<table border=\"1\" class=\"dataframe\">\n",
       "  <thead>\n",
       "    <tr style=\"text-align: right;\">\n",
       "      <th></th>\n",
       "      <th>educat</th>\n",
       "      <th>Frequency</th>\n",
       "      <th>Percent</th>\n",
       "    </tr>\n",
       "  </thead>\n",
       "  <tbody>\n",
       "    <tr>\n",
       "      <th>0</th>\n",
       "      <td>1.0</td>\n",
       "      <td>45</td>\n",
       "      <td>30.000000</td>\n",
       "    </tr>\n",
       "    <tr>\n",
       "      <th>1</th>\n",
       "      <td>2.0</td>\n",
       "      <td>70</td>\n",
       "      <td>46.666667</td>\n",
       "    </tr>\n",
       "    <tr>\n",
       "      <th>2</th>\n",
       "      <td>3.0</td>\n",
       "      <td>35</td>\n",
       "      <td>23.333333</td>\n",
       "    </tr>\n",
       "  </tbody>\n",
       "</table>\n",
       "</div>"
      ],
      "text/plain": [
       "   educat  Frequency    Percent\n",
       "0     1.0         45  30.000000\n",
       "1     2.0         70  46.666667\n",
       "2     3.0         35  23.333333"
      ]
     },
     "execution_count": 12,
     "metadata": {},
     "output_type": "execute_result"
    }
   ],
   "source": [
    "myFreqTable['Percent'] = myFreqTable['Frequency']/myFreqTable['Frequency'].sum()*100\n",
    "myFreqTable"
   ]
  },
  {
   "cell_type": "markdown",
   "metadata": {},
   "source": [
    "Add the cumulative percentages:"
   ]
  },
  {
   "cell_type": "code",
   "execution_count": 13,
   "metadata": {},
   "outputs": [
    {
     "data": {
      "text/html": [
       "<div>\n",
       "<style scoped>\n",
       "    .dataframe tbody tr th:only-of-type {\n",
       "        vertical-align: middle;\n",
       "    }\n",
       "\n",
       "    .dataframe tbody tr th {\n",
       "        vertical-align: top;\n",
       "    }\n",
       "\n",
       "    .dataframe thead th {\n",
       "        text-align: right;\n",
       "    }\n",
       "</style>\n",
       "<table border=\"1\" class=\"dataframe\">\n",
       "  <thead>\n",
       "    <tr style=\"text-align: right;\">\n",
       "      <th></th>\n",
       "      <th>educat</th>\n",
       "      <th>Frequency</th>\n",
       "      <th>Percent</th>\n",
       "      <th>Cumulative Percent</th>\n",
       "    </tr>\n",
       "  </thead>\n",
       "  <tbody>\n",
       "    <tr>\n",
       "      <th>0</th>\n",
       "      <td>1.0</td>\n",
       "      <td>45</td>\n",
       "      <td>30.000000</td>\n",
       "      <td>30.000000</td>\n",
       "    </tr>\n",
       "    <tr>\n",
       "      <th>1</th>\n",
       "      <td>2.0</td>\n",
       "      <td>70</td>\n",
       "      <td>46.666667</td>\n",
       "      <td>76.666667</td>\n",
       "    </tr>\n",
       "    <tr>\n",
       "      <th>2</th>\n",
       "      <td>3.0</td>\n",
       "      <td>35</td>\n",
       "      <td>23.333333</td>\n",
       "      <td>100.000000</td>\n",
       "    </tr>\n",
       "  </tbody>\n",
       "</table>\n",
       "</div>"
      ],
      "text/plain": [
       "   educat  Frequency    Percent  Cumulative Percent\n",
       "0     1.0         45  30.000000           30.000000\n",
       "1     2.0         70  46.666667           76.666667\n",
       "2     3.0         35  23.333333          100.000000"
      ]
     },
     "execution_count": 13,
     "metadata": {},
     "output_type": "execute_result"
    }
   ],
   "source": [
    "myFreqTable['Cumulative Percent'] = myFreqTable['Frequency'].cumsum() / myFreqTable['Frequency'].sum() * 100\n",
    "myFreqTable"
   ]
  },
  {
   "cell_type": "markdown",
   "metadata": {},
   "source": [
    "Yes, we could also do the 'cumsum()' directly on the Percent, but if those get rounded, then the cumulative percent will add the rounding errors. By doing the 'cumsum()' from the frequencies and then dividing by the sum of those, we don't need to worry about that."
   ]
  },
  {
   "cell_type": "markdown",
   "metadata": {},
   "source": [
    "The 'educat' were actually categories. These can be obtained from the meta data that we got when loading the SPSS file."
   ]
  },
  {
   "cell_type": "code",
   "execution_count": 14,
   "metadata": {},
   "outputs": [],
   "source": [
    "myDic = meta.variable_value_labels"
   ]
  },
  {
   "cell_type": "code",
   "execution_count": 15,
   "metadata": {},
   "outputs": [
    {
     "data": {
      "text/plain": [
       "{1.0: 'Lower level', 2.0: 'Intermediate level', 3.0: 'Higher level'}"
      ]
     },
     "execution_count": 15,
     "metadata": {},
     "output_type": "execute_result"
    }
   ],
   "source": [
    "myDic['educat']"
   ]
  },
  {
   "cell_type": "markdown",
   "metadata": {},
   "source": [
    "Lets replace the categories with their text equivelants. The below code does seem to give an error, but it does actually work:"
   ]
  },
  {
   "cell_type": "code",
   "execution_count": 16,
   "metadata": {},
   "outputs": [
    {
     "name": "stderr",
     "output_type": "stream",
     "text": [
      "<ipython-input-16-f71cedc1c3a4>:2: SettingWithCopyWarning: \n",
      "A value is trying to be set on a copy of a slice from a DataFrame\n",
      "\n",
      "See the caveats in the documentation: https://pandas.pydata.org/pandas-docs/stable/user_guide/indexing.html#returning-a-view-versus-a-copy\n",
      "  myFreqTable['educat'][i] = myDic['educat'][myFreqTable['educat'][i]]\n",
      "C:\\Users\\Peter\\anaconda3\\envs\\Data Science - P37 build\\lib\\site-packages\\pandas\\core\\indexing.py:671: SettingWithCopyWarning: \n",
      "A value is trying to be set on a copy of a slice from a DataFrame\n",
      "\n",
      "See the caveats in the documentation: https://pandas.pydata.org/pandas-docs/stable/user_guide/indexing.html#returning-a-view-versus-a-copy\n",
      "  self._setitem_with_indexer(indexer, value)\n"
     ]
    }
   ],
   "source": [
    "for i in range(len(myFreqTable['educat'])):\n",
    "    myFreqTable['educat'][i] = myDic['educat'][myFreqTable['educat'][i]]"
   ]
  },
  {
   "cell_type": "code",
   "execution_count": 17,
   "metadata": {},
   "outputs": [
    {
     "data": {
      "text/html": [
       "<div>\n",
       "<style scoped>\n",
       "    .dataframe tbody tr th:only-of-type {\n",
       "        vertical-align: middle;\n",
       "    }\n",
       "\n",
       "    .dataframe tbody tr th {\n",
       "        vertical-align: top;\n",
       "    }\n",
       "\n",
       "    .dataframe thead th {\n",
       "        text-align: right;\n",
       "    }\n",
       "</style>\n",
       "<table border=\"1\" class=\"dataframe\">\n",
       "  <thead>\n",
       "    <tr style=\"text-align: right;\">\n",
       "      <th></th>\n",
       "      <th>educat</th>\n",
       "      <th>Frequency</th>\n",
       "      <th>Percent</th>\n",
       "      <th>Cumulative Percent</th>\n",
       "    </tr>\n",
       "  </thead>\n",
       "  <tbody>\n",
       "    <tr>\n",
       "      <th>0</th>\n",
       "      <td>Lower level</td>\n",
       "      <td>45</td>\n",
       "      <td>30.000000</td>\n",
       "      <td>30.000000</td>\n",
       "    </tr>\n",
       "    <tr>\n",
       "      <th>1</th>\n",
       "      <td>Intermediate level</td>\n",
       "      <td>70</td>\n",
       "      <td>46.666667</td>\n",
       "      <td>76.666667</td>\n",
       "    </tr>\n",
       "    <tr>\n",
       "      <th>2</th>\n",
       "      <td>Higher level</td>\n",
       "      <td>35</td>\n",
       "      <td>23.333333</td>\n",
       "      <td>100.000000</td>\n",
       "    </tr>\n",
       "  </tbody>\n",
       "</table>\n",
       "</div>"
      ],
      "text/plain": [
       "               educat  Frequency    Percent  Cumulative Percent\n",
       "0         Lower level         45  30.000000           30.000000\n",
       "1  Intermediate level         70  46.666667           76.666667\n",
       "2        Higher level         35  23.333333          100.000000"
      ]
     },
     "execution_count": 17,
     "metadata": {},
     "output_type": "execute_result"
    }
   ],
   "source": [
    "myFreqTable"
   ]
  },
  {
   "cell_type": "markdown",
   "metadata": {},
   "source": [
    "Great.\n",
    "\n",
    "I don't want to repeat these steps every time. So lets make a function out of it."
   ]
  },
  {
   "cell_type": "markdown",
   "metadata": {},
   "source": [
    "Although NOT recommended, I'm going to turn off the warnings. Just not to clutter this file too much"
   ]
  },
  {
   "cell_type": "code",
   "execution_count": 18,
   "metadata": {},
   "outputs": [],
   "source": [
    "import warnings\n",
    "warnings.filterwarnings(\"ignore\")"
   ]
  },
  {
   "cell_type": "code",
   "execution_count": 19,
   "metadata": {},
   "outputs": [],
   "source": [
    "def frequencyTable(data, column, aDictionary=None):\n",
    "    # get the unique counts\n",
    "    freqTable = data[column].value_counts()\n",
    "    \n",
    "    # convert the dictionary to a numpy array\n",
    "    freqTableNP = np.array([freqTable.keys(),freqTable.values])\n",
    "    freqTableNP = np.swapaxes(freqTableNP,0,1)\n",
    "    \n",
    "    # and the numpy array to a panda dataframe\n",
    "    freqTable = pd.DataFrame(data=freqTableNP,columns=[column, 'Frequency'])\n",
    "    \n",
    "    # order the table\n",
    "    freqTable = freqTable.sort_values(by=[column])\n",
    "    freqTable = freqTable.reset_index(drop=True)\n",
    "    \n",
    "    # adjust frequency to int\n",
    "    freqTable = freqTable.astype({'Frequency': 'int32'})\n",
    "    \n",
    "    # adding the percent and cumulative percent\n",
    "    freqTable['Percent'] = freqTable['Frequency']/freqTable['Frequency'].sum()*100\n",
    "    freqTable['Cumulative Percent'] = freqTable['Frequency'].cumsum() / freqTable['Frequency'].sum() * 100\n",
    "    \n",
    "    # if a dictionary is provided:\n",
    "    if aDictionary!=None:\n",
    "        for i in range(len(freqTable[column])):\n",
    "            freqTable[column][i] = aDictionary[column][freqTable[column][i]]\n",
    "    \n",
    "    return freqTable"
   ]
  },
  {
   "cell_type": "markdown",
   "metadata": {},
   "source": [
    "Lets run a few examples."
   ]
  },
  {
   "cell_type": "code",
   "execution_count": 20,
   "metadata": {},
   "outputs": [
    {
     "data": {
      "text/html": [
       "<div>\n",
       "<style scoped>\n",
       "    .dataframe tbody tr th:only-of-type {\n",
       "        vertical-align: middle;\n",
       "    }\n",
       "\n",
       "    .dataframe tbody tr th {\n",
       "        vertical-align: top;\n",
       "    }\n",
       "\n",
       "    .dataframe thead th {\n",
       "        text-align: right;\n",
       "    }\n",
       "</style>\n",
       "<table border=\"1\" class=\"dataframe\">\n",
       "  <thead>\n",
       "    <tr style=\"text-align: right;\">\n",
       "      <th></th>\n",
       "      <th>educat</th>\n",
       "      <th>Frequency</th>\n",
       "      <th>Percent</th>\n",
       "      <th>Cumulative Percent</th>\n",
       "    </tr>\n",
       "  </thead>\n",
       "  <tbody>\n",
       "    <tr>\n",
       "      <th>0</th>\n",
       "      <td>Lower level</td>\n",
       "      <td>45</td>\n",
       "      <td>30.000000</td>\n",
       "      <td>30.000000</td>\n",
       "    </tr>\n",
       "    <tr>\n",
       "      <th>1</th>\n",
       "      <td>Intermediate level</td>\n",
       "      <td>70</td>\n",
       "      <td>46.666667</td>\n",
       "      <td>76.666667</td>\n",
       "    </tr>\n",
       "    <tr>\n",
       "      <th>2</th>\n",
       "      <td>Higher level</td>\n",
       "      <td>35</td>\n",
       "      <td>23.333333</td>\n",
       "      <td>100.000000</td>\n",
       "    </tr>\n",
       "  </tbody>\n",
       "</table>\n",
       "</div>"
      ],
      "text/plain": [
       "               educat  Frequency    Percent  Cumulative Percent\n",
       "0         Lower level         45  30.000000           30.000000\n",
       "1  Intermediate level         70  46.666667           76.666667\n",
       "2        Higher level         35  23.333333          100.000000"
      ]
     },
     "execution_count": 20,
     "metadata": {},
     "output_type": "execute_result"
    }
   ],
   "source": [
    "frequencyTable(myDf, 'educat', aDictionary=myDic)"
   ]
  },
  {
   "cell_type": "code",
   "execution_count": 21,
   "metadata": {},
   "outputs": [
    {
     "data": {
      "text/html": [
       "<div>\n",
       "<style scoped>\n",
       "    .dataframe tbody tr th:only-of-type {\n",
       "        vertical-align: middle;\n",
       "    }\n",
       "\n",
       "    .dataframe tbody tr th {\n",
       "        vertical-align: top;\n",
       "    }\n",
       "\n",
       "    .dataframe thead th {\n",
       "        text-align: right;\n",
       "    }\n",
       "</style>\n",
       "<table border=\"1\" class=\"dataframe\">\n",
       "  <thead>\n",
       "    <tr style=\"text-align: right;\">\n",
       "      <th></th>\n",
       "      <th>educat</th>\n",
       "      <th>Frequency</th>\n",
       "      <th>Percent</th>\n",
       "      <th>Cumulative Percent</th>\n",
       "    </tr>\n",
       "  </thead>\n",
       "  <tbody>\n",
       "    <tr>\n",
       "      <th>0</th>\n",
       "      <td>1.0</td>\n",
       "      <td>45</td>\n",
       "      <td>30.000000</td>\n",
       "      <td>30.000000</td>\n",
       "    </tr>\n",
       "    <tr>\n",
       "      <th>1</th>\n",
       "      <td>2.0</td>\n",
       "      <td>70</td>\n",
       "      <td>46.666667</td>\n",
       "      <td>76.666667</td>\n",
       "    </tr>\n",
       "    <tr>\n",
       "      <th>2</th>\n",
       "      <td>3.0</td>\n",
       "      <td>35</td>\n",
       "      <td>23.333333</td>\n",
       "      <td>100.000000</td>\n",
       "    </tr>\n",
       "  </tbody>\n",
       "</table>\n",
       "</div>"
      ],
      "text/plain": [
       "   educat  Frequency    Percent  Cumulative Percent\n",
       "0     1.0         45  30.000000           30.000000\n",
       "1     2.0         70  46.666667           76.666667\n",
       "2     3.0         35  23.333333          100.000000"
      ]
     },
     "execution_count": 21,
     "metadata": {},
     "output_type": "execute_result"
    }
   ],
   "source": [
    "frequencyTable(myDf, 'educat')"
   ]
  },
  {
   "cell_type": "code",
   "execution_count": 22,
   "metadata": {},
   "outputs": [
    {
     "data": {
      "text/html": [
       "<div>\n",
       "<style scoped>\n",
       "    .dataframe tbody tr th:only-of-type {\n",
       "        vertical-align: middle;\n",
       "    }\n",
       "\n",
       "    .dataframe tbody tr th {\n",
       "        vertical-align: top;\n",
       "    }\n",
       "\n",
       "    .dataframe thead th {\n",
       "        text-align: right;\n",
       "    }\n",
       "</style>\n",
       "<table border=\"1\" class=\"dataframe\">\n",
       "  <thead>\n",
       "    <tr style=\"text-align: right;\">\n",
       "      <th></th>\n",
       "      <th>sex</th>\n",
       "      <th>Frequency</th>\n",
       "      <th>Percent</th>\n",
       "      <th>Cumulative Percent</th>\n",
       "    </tr>\n",
       "  </thead>\n",
       "  <tbody>\n",
       "    <tr>\n",
       "      <th>0</th>\n",
       "      <td>Female</td>\n",
       "      <td>70</td>\n",
       "      <td>46.666667</td>\n",
       "      <td>46.666667</td>\n",
       "    </tr>\n",
       "    <tr>\n",
       "      <th>1</th>\n",
       "      <td>Male</td>\n",
       "      <td>80</td>\n",
       "      <td>53.333333</td>\n",
       "      <td>100.000000</td>\n",
       "    </tr>\n",
       "  </tbody>\n",
       "</table>\n",
       "</div>"
      ],
      "text/plain": [
       "      sex  Frequency    Percent  Cumulative Percent\n",
       "0  Female         70  46.666667           46.666667\n",
       "1    Male         80  53.333333          100.000000"
      ]
     },
     "execution_count": 22,
     "metadata": {},
     "output_type": "execute_result"
    }
   ],
   "source": [
    "frequencyTable(myDf, 'sex', aDictionary=myDic)"
   ]
  },
  {
   "cell_type": "markdown",
   "metadata": {},
   "source": [
    "So far, so good. But....what if we have missing values?"
   ]
  },
  {
   "cell_type": "code",
   "execution_count": 23,
   "metadata": {},
   "outputs": [
    {
     "data": {
      "text/html": [
       "<div>\n",
       "<style scoped>\n",
       "    .dataframe tbody tr th:only-of-type {\n",
       "        vertical-align: middle;\n",
       "    }\n",
       "\n",
       "    .dataframe tbody tr th {\n",
       "        vertical-align: top;\n",
       "    }\n",
       "\n",
       "    .dataframe thead th {\n",
       "        text-align: right;\n",
       "    }\n",
       "</style>\n",
       "<table border=\"1\" class=\"dataframe\">\n",
       "  <thead>\n",
       "    <tr style=\"text-align: right;\">\n",
       "      <th></th>\n",
       "      <th>mar1</th>\n",
       "      <th>Frequency</th>\n",
       "      <th>Percent</th>\n",
       "      <th>Cumulative Percent</th>\n",
       "    </tr>\n",
       "  </thead>\n",
       "  <tbody>\n",
       "    <tr>\n",
       "      <th>0</th>\n",
       "      <td>MARRIED</td>\n",
       "      <td>972</td>\n",
       "      <td>49.240122</td>\n",
       "      <td>49.240122</td>\n",
       "    </tr>\n",
       "    <tr>\n",
       "      <th>1</th>\n",
       "      <td>WIDOWED</td>\n",
       "      <td>181</td>\n",
       "      <td>9.169200</td>\n",
       "      <td>58.409321</td>\n",
       "    </tr>\n",
       "    <tr>\n",
       "      <th>2</th>\n",
       "      <td>DIVORCED</td>\n",
       "      <td>314</td>\n",
       "      <td>15.906788</td>\n",
       "      <td>74.316109</td>\n",
       "    </tr>\n",
       "    <tr>\n",
       "      <th>3</th>\n",
       "      <td>SEPARATED</td>\n",
       "      <td>79</td>\n",
       "      <td>4.002026</td>\n",
       "      <td>78.318136</td>\n",
       "    </tr>\n",
       "    <tr>\n",
       "      <th>4</th>\n",
       "      <td>NEVER MARRIED</td>\n",
       "      <td>395</td>\n",
       "      <td>20.010132</td>\n",
       "      <td>98.328267</td>\n",
       "    </tr>\n",
       "    <tr>\n",
       "      <th>5</th>\n",
       "      <td>DK</td>\n",
       "      <td>22</td>\n",
       "      <td>1.114488</td>\n",
       "      <td>99.442756</td>\n",
       "    </tr>\n",
       "    <tr>\n",
       "      <th>6</th>\n",
       "      <td>NA</td>\n",
       "      <td>11</td>\n",
       "      <td>0.557244</td>\n",
       "      <td>100.000000</td>\n",
       "    </tr>\n",
       "  </tbody>\n",
       "</table>\n",
       "</div>"
      ],
      "text/plain": [
       "            mar1  Frequency    Percent  Cumulative Percent\n",
       "0        MARRIED        972  49.240122           49.240122\n",
       "1        WIDOWED        181   9.169200           58.409321\n",
       "2       DIVORCED        314  15.906788           74.316109\n",
       "3      SEPARATED         79   4.002026           78.318136\n",
       "4  NEVER MARRIED        395  20.010132           98.328267\n",
       "5             DK         22   1.114488           99.442756\n",
       "6             NA         11   0.557244          100.000000"
      ]
     },
     "execution_count": 23,
     "metadata": {},
     "output_type": "execute_result"
    }
   ],
   "source": [
    "myDf, meta = pyreadstat.read_sav(\"GSS2012-Aangepast.sav\", user_missing=True)\n",
    "myDic = meta.variable_value_labels\n",
    "frequencyTable(myDf, 'mar1', aDictionary=myDic)"
   ]
  },
  {
   "cell_type": "markdown",
   "metadata": {},
   "source": [
    "The 'DK' and 'NA' were actually missing values. We can get the information from the meta data:"
   ]
  },
  {
   "cell_type": "code",
   "execution_count": 24,
   "metadata": {},
   "outputs": [
    {
     "data": {
      "text/plain": [
       "[{'lo': 0.0, 'hi': 0.0}, {'lo': 8.0, 'hi': 8.0}, {'lo': 9.0, 'hi': 9.0}]"
      ]
     },
     "execution_count": 24,
     "metadata": {},
     "output_type": "execute_result"
    }
   ],
   "source": [
    "myMissing = meta.missing_ranges\n",
    "myMissing['mar1']"
   ]
  },
  {
   "cell_type": "markdown",
   "metadata": {},
   "source": [
    "Lets first create the frequency table, without the labels."
   ]
  },
  {
   "cell_type": "code",
   "execution_count": 25,
   "metadata": {},
   "outputs": [],
   "source": [
    "myDf2 = frequencyTable(myDf, 'mar1')"
   ]
  },
  {
   "cell_type": "code",
   "execution_count": 26,
   "metadata": {},
   "outputs": [
    {
     "data": {
      "text/html": [
       "<div>\n",
       "<style scoped>\n",
       "    .dataframe tbody tr th:only-of-type {\n",
       "        vertical-align: middle;\n",
       "    }\n",
       "\n",
       "    .dataframe tbody tr th {\n",
       "        vertical-align: top;\n",
       "    }\n",
       "\n",
       "    .dataframe thead th {\n",
       "        text-align: right;\n",
       "    }\n",
       "</style>\n",
       "<table border=\"1\" class=\"dataframe\">\n",
       "  <thead>\n",
       "    <tr style=\"text-align: right;\">\n",
       "      <th></th>\n",
       "      <th>mar1</th>\n",
       "      <th>Frequency</th>\n",
       "      <th>Percent</th>\n",
       "      <th>Cumulative Percent</th>\n",
       "    </tr>\n",
       "  </thead>\n",
       "  <tbody>\n",
       "    <tr>\n",
       "      <th>0</th>\n",
       "      <td>1.0</td>\n",
       "      <td>972</td>\n",
       "      <td>49.240122</td>\n",
       "      <td>49.240122</td>\n",
       "    </tr>\n",
       "    <tr>\n",
       "      <th>1</th>\n",
       "      <td>2.0</td>\n",
       "      <td>181</td>\n",
       "      <td>9.169200</td>\n",
       "      <td>58.409321</td>\n",
       "    </tr>\n",
       "    <tr>\n",
       "      <th>2</th>\n",
       "      <td>3.0</td>\n",
       "      <td>314</td>\n",
       "      <td>15.906788</td>\n",
       "      <td>74.316109</td>\n",
       "    </tr>\n",
       "    <tr>\n",
       "      <th>3</th>\n",
       "      <td>4.0</td>\n",
       "      <td>79</td>\n",
       "      <td>4.002026</td>\n",
       "      <td>78.318136</td>\n",
       "    </tr>\n",
       "    <tr>\n",
       "      <th>4</th>\n",
       "      <td>5.0</td>\n",
       "      <td>395</td>\n",
       "      <td>20.010132</td>\n",
       "      <td>98.328267</td>\n",
       "    </tr>\n",
       "    <tr>\n",
       "      <th>5</th>\n",
       "      <td>8.0</td>\n",
       "      <td>22</td>\n",
       "      <td>1.114488</td>\n",
       "      <td>99.442756</td>\n",
       "    </tr>\n",
       "    <tr>\n",
       "      <th>6</th>\n",
       "      <td>9.0</td>\n",
       "      <td>11</td>\n",
       "      <td>0.557244</td>\n",
       "      <td>100.000000</td>\n",
       "    </tr>\n",
       "  </tbody>\n",
       "</table>\n",
       "</div>"
      ],
      "text/plain": [
       "   mar1  Frequency    Percent  Cumulative Percent\n",
       "0   1.0        972  49.240122           49.240122\n",
       "1   2.0        181   9.169200           58.409321\n",
       "2   3.0        314  15.906788           74.316109\n",
       "3   4.0         79   4.002026           78.318136\n",
       "4   5.0        395  20.010132           98.328267\n",
       "5   8.0         22   1.114488           99.442756\n",
       "6   9.0         11   0.557244          100.000000"
      ]
     },
     "execution_count": 26,
     "metadata": {},
     "output_type": "execute_result"
    }
   ],
   "source": [
    "myDf2"
   ]
  },
  {
   "cell_type": "markdown",
   "metadata": {},
   "source": [
    "Now to loop through the missing values and determine the so called Valid Percent and Cumulative Valid Percent:"
   ]
  },
  {
   "cell_type": "code",
   "execution_count": 27,
   "metadata": {},
   "outputs": [
    {
     "data": {
      "text/html": [
       "<div>\n",
       "<style scoped>\n",
       "    .dataframe tbody tr th:only-of-type {\n",
       "        vertical-align: middle;\n",
       "    }\n",
       "\n",
       "    .dataframe tbody tr th {\n",
       "        vertical-align: top;\n",
       "    }\n",
       "\n",
       "    .dataframe thead th {\n",
       "        text-align: right;\n",
       "    }\n",
       "</style>\n",
       "<table border=\"1\" class=\"dataframe\">\n",
       "  <thead>\n",
       "    <tr style=\"text-align: right;\">\n",
       "      <th></th>\n",
       "      <th>mar1</th>\n",
       "      <th>Frequency</th>\n",
       "      <th>Percent</th>\n",
       "      <th>Cumulative Percent</th>\n",
       "      <th>Valid Percent</th>\n",
       "      <th>Cumulative Valid Percent</th>\n",
       "    </tr>\n",
       "  </thead>\n",
       "  <tbody>\n",
       "    <tr>\n",
       "      <th>0</th>\n",
       "      <td>1.0</td>\n",
       "      <td>972</td>\n",
       "      <td>49.240122</td>\n",
       "      <td>49.240122</td>\n",
       "      <td>50.077280</td>\n",
       "      <td>50.077280</td>\n",
       "    </tr>\n",
       "    <tr>\n",
       "      <th>1</th>\n",
       "      <td>2.0</td>\n",
       "      <td>181</td>\n",
       "      <td>9.169200</td>\n",
       "      <td>58.409321</td>\n",
       "      <td>9.325090</td>\n",
       "      <td>59.402370</td>\n",
       "    </tr>\n",
       "    <tr>\n",
       "      <th>2</th>\n",
       "      <td>3.0</td>\n",
       "      <td>314</td>\n",
       "      <td>15.906788</td>\n",
       "      <td>74.316109</td>\n",
       "      <td>16.177228</td>\n",
       "      <td>75.579598</td>\n",
       "    </tr>\n",
       "    <tr>\n",
       "      <th>3</th>\n",
       "      <td>4.0</td>\n",
       "      <td>79</td>\n",
       "      <td>4.002026</td>\n",
       "      <td>78.318136</td>\n",
       "      <td>4.070067</td>\n",
       "      <td>79.649665</td>\n",
       "    </tr>\n",
       "    <tr>\n",
       "      <th>4</th>\n",
       "      <td>5.0</td>\n",
       "      <td>395</td>\n",
       "      <td>20.010132</td>\n",
       "      <td>98.328267</td>\n",
       "      <td>20.350335</td>\n",
       "      <td>100.000000</td>\n",
       "    </tr>\n",
       "    <tr>\n",
       "      <th>5</th>\n",
       "      <td>8.0</td>\n",
       "      <td>22</td>\n",
       "      <td>1.114488</td>\n",
       "      <td>99.442756</td>\n",
       "      <td>NaN</td>\n",
       "      <td>NaN</td>\n",
       "    </tr>\n",
       "    <tr>\n",
       "      <th>6</th>\n",
       "      <td>9.0</td>\n",
       "      <td>11</td>\n",
       "      <td>0.557244</td>\n",
       "      <td>100.000000</td>\n",
       "      <td>NaN</td>\n",
       "      <td>NaN</td>\n",
       "    </tr>\n",
       "  </tbody>\n",
       "</table>\n",
       "</div>"
      ],
      "text/plain": [
       "   mar1  Frequency    Percent  Cumulative Percent  Valid Percent  \\\n",
       "0   1.0        972  49.240122           49.240122      50.077280   \n",
       "1   2.0        181   9.169200           58.409321       9.325090   \n",
       "2   3.0        314  15.906788           74.316109      16.177228   \n",
       "3   4.0         79   4.002026           78.318136       4.070067   \n",
       "4   5.0        395  20.010132           98.328267      20.350335   \n",
       "5   8.0         22   1.114488           99.442756            NaN   \n",
       "6   9.0         11   0.557244          100.000000            NaN   \n",
       "\n",
       "   Cumulative Valid Percent  \n",
       "0                 50.077280  \n",
       "1                 59.402370  \n",
       "2                 75.579598  \n",
       "3                 79.649665  \n",
       "4                100.000000  \n",
       "5                       NaN  \n",
       "6                       NaN  "
      ]
     },
     "execution_count": 27,
     "metadata": {},
     "output_type": "execute_result"
    }
   ],
   "source": [
    "myDf2 = frequencyTable(myDf, 'mar1')\n",
    "\n",
    "myMissing = meta.missing_ranges\n",
    "myMissingAr = np.array(myMissing['mar1'])\n",
    "\n",
    "isNonmisAr = np.array([])\n",
    "\n",
    "# check if category is a missing category\n",
    "for i in myDf2['mar1']:\n",
    "    isNotMissing=1\n",
    "    for j in myMissingAr:\n",
    "        if i>=list(j.values())[0] and i<=list(j.values())[1]:\n",
    "            isNotMissing=0\n",
    "    isNonmisAr = np.append(isNonmisAr, [isNotMissing])\n",
    "\n",
    "validSum = sum(myDf2['Frequency']*isNonmisAr)\n",
    "validPerc = myDf2['Frequency']/validSum*isNonmisAr*100\n",
    "\n",
    "# remove the valid percentage and cumulative percentage for the missing values categories\n",
    "for i in range(len(validPerc)):\n",
    "    if isNonmisAr[i]==0:\n",
    "        validPerc[i]=np.nan\n",
    "\n",
    "# add the new columns\n",
    "myDf2['Valid Percent'] = validPerc\n",
    "\n",
    "myDf2['Cumulative Valid Percent'] = myDf2['Valid Percent'].cumsum()\n",
    "\n",
    "myDf2"
   ]
  },
  {
   "cell_type": "markdown",
   "metadata": {},
   "source": [
    "I'm not going to do all this every time. Lets adjust the function."
   ]
  },
  {
   "cell_type": "code",
   "execution_count": 28,
   "metadata": {},
   "outputs": [],
   "source": [
    "def frequencyTable(data, column, aDictionary=None, missing=None):\n",
    "    # get the unique counts\n",
    "    freqTable = data[column].value_counts()\n",
    "    \n",
    "    # convert the dictionary to a numpy array\n",
    "    freqTableNP = np.array([freqTable.keys(),freqTable.values])\n",
    "    freqTableNP = np.swapaxes(freqTableNP,0,1)\n",
    "    \n",
    "    # and the numpy array to a panda dataframe\n",
    "    freqTable = pd.DataFrame(data=freqTableNP,columns=[column, 'Frequency'])\n",
    "    \n",
    "    # order the table\n",
    "    freqTable = freqTable.sort_values(by=[column])\n",
    "    freqTable = freqTable.reset_index(drop=True)\n",
    "    \n",
    "    # adjust frequency to int\n",
    "    freqTable = freqTable.astype({'Frequency': 'int32'})\n",
    "    \n",
    "    # adding the percent and cumulative percent\n",
    "    freqTable['Percent'] = freqTable['Frequency']/freqTable['Frequency'].sum()*100\n",
    "    freqTable['Cumulative Percent'] = freqTable['Frequency'].cumsum() / freqTable['Frequency'].sum() * 100\n",
    "    \n",
    "    # if a missing meta information is provided\n",
    "    if missing!=None:\n",
    "        myMissingAr = np.array(missing[column])\n",
    "        isNonmisAr = np.array([])\n",
    "        # check if category is a missing category\n",
    "        for i in freqTable[column]:\n",
    "            isNotMissing=1\n",
    "            for j in myMissingAr:\n",
    "                if i>=list(j.values())[0] and i<=list(j.values())[1]:\n",
    "                    isNotMissing=0\n",
    "            isNonmisAr = np.append(isNonmisAr, [isNotMissing])\n",
    "\n",
    "        validSum = sum(freqTable['Frequency']*isNonmisAr)\n",
    "        validPerc = freqTable['Frequency']/validSum*isNonmisAr*100\n",
    "\n",
    "        # remove the valid percentage and cumulative percentage for the missing values categories\n",
    "        for i in range(len(validPerc)):\n",
    "            if isNonmisAr[i]==0:\n",
    "                validPerc[i]=np.nan\n",
    "\n",
    "        # add the new columns\n",
    "        freqTable['Valid Percent'] = validPerc\n",
    "\n",
    "        freqTable['Cumulative Valid Percent'] = freqTable['Valid Percent'].cumsum()\n",
    "\n",
    "    # if a dictionary is provided:\n",
    "    if aDictionary!=None:\n",
    "        for i in range(len(freqTable[column])):\n",
    "            freqTable[column][i] = aDictionary[column][freqTable[column][i]]\n",
    "    \n",
    "    return freqTable"
   ]
  },
  {
   "cell_type": "code",
   "execution_count": 29,
   "metadata": {},
   "outputs": [
    {
     "data": {
      "text/html": [
       "<div>\n",
       "<style scoped>\n",
       "    .dataframe tbody tr th:only-of-type {\n",
       "        vertical-align: middle;\n",
       "    }\n",
       "\n",
       "    .dataframe tbody tr th {\n",
       "        vertical-align: top;\n",
       "    }\n",
       "\n",
       "    .dataframe thead th {\n",
       "        text-align: right;\n",
       "    }\n",
       "</style>\n",
       "<table border=\"1\" class=\"dataframe\">\n",
       "  <thead>\n",
       "    <tr style=\"text-align: right;\">\n",
       "      <th></th>\n",
       "      <th>mar1</th>\n",
       "      <th>Frequency</th>\n",
       "      <th>Percent</th>\n",
       "      <th>Cumulative Percent</th>\n",
       "      <th>Valid Percent</th>\n",
       "      <th>Cumulative Valid Percent</th>\n",
       "    </tr>\n",
       "  </thead>\n",
       "  <tbody>\n",
       "    <tr>\n",
       "      <th>0</th>\n",
       "      <td>MARRIED</td>\n",
       "      <td>972</td>\n",
       "      <td>49.240122</td>\n",
       "      <td>49.240122</td>\n",
       "      <td>50.077280</td>\n",
       "      <td>50.077280</td>\n",
       "    </tr>\n",
       "    <tr>\n",
       "      <th>1</th>\n",
       "      <td>WIDOWED</td>\n",
       "      <td>181</td>\n",
       "      <td>9.169200</td>\n",
       "      <td>58.409321</td>\n",
       "      <td>9.325090</td>\n",
       "      <td>59.402370</td>\n",
       "    </tr>\n",
       "    <tr>\n",
       "      <th>2</th>\n",
       "      <td>DIVORCED</td>\n",
       "      <td>314</td>\n",
       "      <td>15.906788</td>\n",
       "      <td>74.316109</td>\n",
       "      <td>16.177228</td>\n",
       "      <td>75.579598</td>\n",
       "    </tr>\n",
       "    <tr>\n",
       "      <th>3</th>\n",
       "      <td>SEPARATED</td>\n",
       "      <td>79</td>\n",
       "      <td>4.002026</td>\n",
       "      <td>78.318136</td>\n",
       "      <td>4.070067</td>\n",
       "      <td>79.649665</td>\n",
       "    </tr>\n",
       "    <tr>\n",
       "      <th>4</th>\n",
       "      <td>NEVER MARRIED</td>\n",
       "      <td>395</td>\n",
       "      <td>20.010132</td>\n",
       "      <td>98.328267</td>\n",
       "      <td>20.350335</td>\n",
       "      <td>100.000000</td>\n",
       "    </tr>\n",
       "    <tr>\n",
       "      <th>5</th>\n",
       "      <td>DK</td>\n",
       "      <td>22</td>\n",
       "      <td>1.114488</td>\n",
       "      <td>99.442756</td>\n",
       "      <td>NaN</td>\n",
       "      <td>NaN</td>\n",
       "    </tr>\n",
       "    <tr>\n",
       "      <th>6</th>\n",
       "      <td>NA</td>\n",
       "      <td>11</td>\n",
       "      <td>0.557244</td>\n",
       "      <td>100.000000</td>\n",
       "      <td>NaN</td>\n",
       "      <td>NaN</td>\n",
       "    </tr>\n",
       "  </tbody>\n",
       "</table>\n",
       "</div>"
      ],
      "text/plain": [
       "            mar1  Frequency    Percent  Cumulative Percent  Valid Percent  \\\n",
       "0        MARRIED        972  49.240122           49.240122      50.077280   \n",
       "1        WIDOWED        181   9.169200           58.409321       9.325090   \n",
       "2       DIVORCED        314  15.906788           74.316109      16.177228   \n",
       "3      SEPARATED         79   4.002026           78.318136       4.070067   \n",
       "4  NEVER MARRIED        395  20.010132           98.328267      20.350335   \n",
       "5             DK         22   1.114488           99.442756            NaN   \n",
       "6             NA         11   0.557244          100.000000            NaN   \n",
       "\n",
       "   Cumulative Valid Percent  \n",
       "0                 50.077280  \n",
       "1                 59.402370  \n",
       "2                 75.579598  \n",
       "3                 79.649665  \n",
       "4                100.000000  \n",
       "5                       NaN  \n",
       "6                       NaN  "
      ]
     },
     "execution_count": 29,
     "metadata": {},
     "output_type": "execute_result"
    }
   ],
   "source": [
    "frequencyTable(myDf, 'mar1', aDictionary=myDic, missing = meta.missing_ranges)"
   ]
  },
  {
   "cell_type": "code",
   "execution_count": null,
   "metadata": {},
   "outputs": [],
   "source": []
  }
 ],
 "metadata": {
  "kernelspec": {
   "display_name": "Python 3",
   "language": "python",
   "name": "python3"
  },
  "language_info": {
   "codemirror_mode": {
    "name": "ipython",
    "version": 3
   },
   "file_extension": ".py",
   "mimetype": "text/x-python",
   "name": "python",
   "nbconvert_exporter": "python",
   "pygments_lexer": "ipython3",
   "version": "3.8.2"
  }
 },
 "nbformat": 4,
 "nbformat_minor": 4
}
