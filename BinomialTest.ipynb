{
 "cells": [
  {
   "cell_type": "markdown",
   "metadata": {},
   "source": [
    "# Binomial Test\n",
    "*By P. Stikker*<br>\n",
    "https://PeterStatistics.com<br>\n",
    "https://www.youtube.com/stikpet"
   ]
  },
  {
   "cell_type": "markdown",
   "metadata": {},
   "source": [
    "Libraries and modules used in this notebook:"
   ]
  },
  {
   "cell_type": "code",
   "execution_count": 3,
   "metadata": {},
   "outputs": [],
   "source": [
    "import pandas as pd\n",
    "import numpy as np\n",
    "\n",
    "import pyreadstat # for the example data\n",
    "from scipy.stats import binom_test # for the binomial test itself"
   ]
  },
  {
   "cell_type": "markdown",
   "metadata": {},
   "source": [
    "Loading some example data:"
   ]
  },
  {
   "cell_type": "code",
   "execution_count": 23,
   "metadata": {},
   "outputs": [],
   "source": [
    "myDf, meta = pyreadstat.read_sav(\"StudentStatistics.sav\")"
   ]
  },
  {
   "cell_type": "markdown",
   "metadata": {},
   "source": [
    "For the binomial test we'll need a dichotomous/binary variable. I'll use sex.\n",
    "\n",
    "Lets have a quick look at the counts:"
   ]
  },
  {
   "cell_type": "code",
   "execution_count": 17,
   "metadata": {},
   "outputs": [
    {
     "data": {
      "text/plain": [
       "2.0    34\n",
       "1.0    12\n",
       "Name: Gen_Gender, dtype: int64"
      ]
     },
     "execution_count": 17,
     "metadata": {},
     "output_type": "execute_result"
    }
   ],
   "source": [
    "myCd = myDf['Gen_Gender'].value_counts()\n",
    "myCd"
   ]
  },
  {
   "cell_type": "markdown",
   "metadata": {},
   "source": [
    "The value_counts returns a dictionary, so we can get the sum of the values by using:"
   ]
  },
  {
   "cell_type": "code",
   "execution_count": 18,
   "metadata": {},
   "outputs": [
    {
     "data": {
      "text/plain": [
       "46"
      ]
     },
     "execution_count": 18,
     "metadata": {},
     "output_type": "execute_result"
    }
   ],
   "source": [
    "mySum = sum(myCd.values)\n",
    "mySum"
   ]
  },
  {
   "cell_type": "markdown",
   "metadata": {},
   "source": [
    "Lets simply pick the first found value in myCd:"
   ]
  },
  {
   "cell_type": "code",
   "execution_count": 21,
   "metadata": {},
   "outputs": [
    {
     "data": {
      "text/plain": [
       "34"
      ]
     },
     "execution_count": 21,
     "metadata": {},
     "output_type": "execute_result"
    }
   ],
   "source": [
    "myX = myCd.values[0]\n",
    "myX"
   ]
  },
  {
   "cell_type": "markdown",
   "metadata": {},
   "source": [
    "Now for the Exact Binomial Test:"
   ]
  },
  {
   "cell_type": "code",
   "execution_count": 22,
   "metadata": {},
   "outputs": [
    {
     "data": {
      "text/plain": [
       "0.0016414913408482337"
      ]
     },
     "execution_count": 22,
     "metadata": {},
     "output_type": "execute_result"
    }
   ],
   "source": [
    "binom_test(myX, mySum, 1/2, alternative='two-sided')"
   ]
  },
  {
   "cell_type": "markdown",
   "metadata": {},
   "source": [
    "The .0016 indicates that there is a 0.16% chance of getting 34 'successes' out of 46, if the chance of success was 50% on each trial.\n",
    "\n",
    "Usually the threshold for this is set at .05 (5%). If the chance is below this, we'd reject the assumption that the chance of success was 50%. It indicates that the two proportions were significantly different. In this research one could conclude that the percentage of Male was significantly different than the percentage of Female. (See https://PeterStatistics.com for more details on how to report this).\n",
    "\n",
    "It is recommended to follow this up with an effect size. Cohen's g is one that might be suited. See separate documentation on Cohen's g."
   ]
  },
  {
   "cell_type": "markdown",
   "metadata": {},
   "source": [
    "*Final remark:* \n",
    "\n",
    "The statsmodels library also has a binomial test, but uses the scipy version for the two-sided version (see their notes on the bottom of the page at https://www.statsmodels.org/stable/generated/statsmodels.stats.proportion.binom_test.html)"
   ]
  },
  {
   "cell_type": "markdown",
   "metadata": {},
   "source": [
    "# Fully Naive"
   ]
  },
  {
   "cell_type": "markdown",
   "metadata": {},
   "source": [
    "In case you really don't want to install any package there is some more work to do.\n",
    "\n",
    "First create a function for 'factorial'. In mathematics this could be defined as:\n",
    "\n",
    "\\begin{equation*}\n",
    "x! = x\\times (x - 1) \\times (x - 2) \\times ... \\times 2 \\times 1\n",
    "\\end{equation*}\n",
    "\n",
    "A simple for loop will do the trick:"
   ]
  },
  {
   "cell_type": "code",
   "execution_count": 29,
   "metadata": {},
   "outputs": [],
   "source": [
    "def myFact(anInt):\n",
    "    fact=1\n",
    "    for i in range(anInt):\n",
    "        fact = fact*(i+1)\n",
    "    return fact"
   ]
  },
  {
   "cell_type": "code",
   "execution_count": 30,
   "metadata": {},
   "outputs": [
    {
     "data": {
      "text/plain": [
       "720"
      ]
     },
     "execution_count": 30,
     "metadata": {},
     "output_type": "execute_result"
    }
   ],
   "source": [
    "myFact(6)"
   ]
  },
  {
   "cell_type": "code",
   "execution_count": 48,
   "metadata": {},
   "outputs": [
    {
     "data": {
      "text/plain": [
       "720"
      ]
     },
     "execution_count": 48,
     "metadata": {},
     "output_type": "execute_result"
    }
   ],
   "source": [
    "# check if it works\n",
    "6*5*4*3*2"
   ]
  },
  {
   "cell_type": "markdown",
   "metadata": {},
   "source": [
    "Next the number of possible combinations of k out of n. In mathematics this can be calculated using:\n",
    "\n",
    "\\begin{equation*}\n",
    "\\binom{n}{k} = \\frac{n!}{k!\\times(n-k)!}\n",
    "\\end{equation*}\n",
    "\n",
    "Simple in Python now that we have the factorial function:"
   ]
  },
  {
   "cell_type": "code",
   "execution_count": 34,
   "metadata": {},
   "outputs": [],
   "source": [
    "def myCombin(n, k):\n",
    "    return myFact(n)/(myFact(k)*myFact(n-k))    "
   ]
  },
  {
   "cell_type": "code",
   "execution_count": 36,
   "metadata": {},
   "outputs": [
    {
     "data": {
      "text/plain": [
       "56.0"
      ]
     },
     "execution_count": 36,
     "metadata": {},
     "output_type": "execute_result"
    }
   ],
   "source": [
    "myCombin(8,3)"
   ]
  },
  {
   "cell_type": "markdown",
   "metadata": {},
   "source": [
    "Finally the Cumulative Probability function for the Binomial:\n",
    "\n",
    "\\begin{equation*}\n",
    "CPB(n,k,p) = \\sum_{i=0}^{k}\\binom{n}{i}\\times p^i\\times(i-p)^{(n-i)}\n",
    "\\end{equation*}"
   ]
  },
  {
   "cell_type": "code",
   "execution_count": 46,
   "metadata": {},
   "outputs": [],
   "source": [
    "def CPB(n, k, p):\n",
    "    sig=0\n",
    "    for i in range(k+1):\n",
    "        sig = sig + myCombin(n,i)*p**i*(1-p)**(n-i)\n",
    "    return sig"
   ]
  },
  {
   "cell_type": "code",
   "execution_count": 47,
   "metadata": {},
   "outputs": [
    {
     "data": {
      "text/plain": [
       "0.0016414913408482334"
      ]
     },
     "execution_count": 47,
     "metadata": {},
     "output_type": "execute_result"
    }
   ],
   "source": [
    "CPB(46,12,0.5)*2"
   ]
  },
  {
   "cell_type": "markdown",
   "metadata": {},
   "source": [
    "Note that I used the 12 and not the 34, and also that I multiplied the result simply by 2.\n",
    "\n",
    "The multiplication by 2 for the two-sided significance is only valid if p = 0.5. In other cases this becomes more difficult.\n",
    "\n",
    "I used the smallest of the two, to make the computation straight forward. You could add a check on if k > n/2 then use n - k."
   ]
  },
  {
   "cell_type": "markdown",
   "metadata": {},
   "source": [
    "The math module from Python actually has a factorial function, and a comb function for combinations."
   ]
  },
  {
   "cell_type": "code",
   "execution_count": null,
   "metadata": {},
   "outputs": [],
   "source": []
  }
 ],
 "metadata": {
  "kernelspec": {
   "display_name": "Python 3",
   "language": "python",
   "name": "python3"
  },
  "language_info": {
   "codemirror_mode": {
    "name": "ipython",
    "version": 3
   },
   "file_extension": ".py",
   "mimetype": "text/x-python",
   "name": "python",
   "nbconvert_exporter": "python",
   "pygments_lexer": "ipython3",
   "version": "3.8.2"
  }
 },
 "nbformat": 4,
 "nbformat_minor": 4
}
