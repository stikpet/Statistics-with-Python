{
 "cells": [
  {
   "cell_type": "markdown",
   "metadata": {},
   "source": [
    "# Cohen's h\n",
    "*By P. Stikker*<br>\n",
    "https://PeterStatistics.com<br>\n",
    "https://www.youtube.com/stikpet"
   ]
  },
  {
   "cell_type": "markdown",
   "metadata": {},
   "source": [
    "Libraries and modules used in this notebook:"
   ]
  },
  {
   "cell_type": "code",
   "execution_count": 1,
   "metadata": {},
   "outputs": [],
   "source": [
    "import pandas as pd\n",
    "import numpy as np\n",
    "import pyreadstat  # to load the example data\n",
    "import math # optional, in the final notes needed"
   ]
  },
  {
   "cell_type": "markdown",
   "metadata": {},
   "source": [
    "Cohen's h is suggested as an effect size measures to be used with dichotomous/binary data, by Rosnow and Rosenthal (2003, p. 225). This effect size can be used when comparing two percentages. It is different from Cohen's g which compares a percentage to 50%. A separate video is available for Cohen's g.\n",
    "\n",
    "Cohen's h can be calculated by (Cohen, 1988, p. 181):\n",
    "\n",
    "\\begin{equation*}\n",
    "h = \\phi_1 - \\phi_2\n",
    "\\end{equation*}\n",
    "\n",
    "Where:\n",
    "\n",
    "\\begin{equation*}\n",
    "\\phi_i = 2 \\text{ arcsin} \\sqrt{P_i}\n",
    "\\end{equation*}\n",
    "\n",
    "With ($P_i$) being the actual sample proportion for category $i$."
   ]
  },
  {
   "cell_type": "markdown",
   "metadata": {},
   "source": [
    "Lets take a look at an example. We begin with loading some data:"
   ]
  },
  {
   "cell_type": "code",
   "execution_count": 2,
   "metadata": {},
   "outputs": [],
   "source": [
    "myDf, meta = pyreadstat.read_sav(\"StudentStatistics.sav\")"
   ]
  },
  {
   "cell_type": "markdown",
   "metadata": {},
   "source": [
    "The field of interest in this data is the 'Gen_Gender', so lets take a look at that one:"
   ]
  },
  {
   "cell_type": "code",
   "execution_count": 3,
   "metadata": {},
   "outputs": [
    {
     "data": {
      "text/plain": [
       "2.0    34\n",
       "1.0    12\n",
       "Name: Gen_Gender, dtype: int64"
      ]
     },
     "execution_count": 3,
     "metadata": {},
     "output_type": "execute_result"
    }
   ],
   "source": [
    "myCd = myDf['Gen_Gender'].value_counts()\n",
    "myCd"
   ]
  },
  {
   "cell_type": "markdown",
   "metadata": {},
   "source": [
    "We'll need the sum and pick one of the two, so lets grab those:"
   ]
  },
  {
   "cell_type": "code",
   "execution_count": 4,
   "metadata": {},
   "outputs": [
    {
     "name": "stdout",
     "output_type": "stream",
     "text": [
      "46\n",
      "34\n"
     ]
    }
   ],
   "source": [
    "mySum = sum(myCd.values)\n",
    "myX = myCd.values[0]\n",
    "\n",
    "print(mySum)\n",
    "print(myX)"
   ]
  },
  {
   "cell_type": "markdown",
   "metadata": {},
   "source": [
    "Now lets dive into that formula. First we need the two proportions from the sample ($P_1$ and $P_2$):"
   ]
  },
  {
   "cell_type": "code",
   "execution_count": 5,
   "metadata": {},
   "outputs": [],
   "source": [
    "myP1 = myX / mySum\n",
    "myP2 = (mySum - myX) / mySum"
   ]
  },
  {
   "cell_type": "markdown",
   "metadata": {},
   "source": [
    "Then calculate those $\\phi_i$, using $\\phi_i = 2 \\text{ arcsin} \\sqrt{P_i}$. This requires the arcsin function, which is available in the numpy library:"
   ]
  },
  {
   "cell_type": "code",
   "execution_count": 6,
   "metadata": {},
   "outputs": [],
   "source": [
    "phi1 = 2*np.arcsin(myP1**0.5)\n",
    "phi2 = 2*np.arcsin(myP2**0.5)"
   ]
  },
  {
   "cell_type": "markdown",
   "metadata": {},
   "source": [
    "Last step is to calculate Cohen's h using $h = \\phi_1 - \\phi_2$:"
   ]
  },
  {
   "cell_type": "code",
   "execution_count": 7,
   "metadata": {},
   "outputs": [
    {
     "data": {
      "text/plain": [
       "0.9973466941237803"
      ]
     },
     "execution_count": 7,
     "metadata": {},
     "output_type": "execute_result"
    }
   ],
   "source": [
    "CohenH = phi1 - phi2\n",
    "CohenH"
   ]
  },
  {
   "cell_type": "markdown",
   "metadata": {},
   "source": [
    "Cohen actually gives thresholds for 'small', 'medium', and 'large' effect sizes for this h at .20, .50, and .80 resp. (Cohen, 1988, pp. 184-185). I would interpret this as:\n",
    "\n",
    "|\\|Cohen h\\|| Interpretation|\n",
    "|-------|---------------|\n",
    "|0.00 < .20| Negligible|\n",
    "|0.20 < 0.50 |Small|\n",
    "|0.50 < 0.80| Medium|\n",
    "|0.80 or more| Large|\n",
    "\n",
    "The 0.997 in the example would be considered 'Large'. We can of course let Python do the 'looking in a table' for us:"
   ]
  },
  {
   "cell_type": "code",
   "execution_count": 8,
   "metadata": {},
   "outputs": [
    {
     "name": "stdout",
     "output_type": "stream",
     "text": [
      "Large\n"
     ]
    }
   ],
   "source": [
    "CohenHnonDir = abs(CohenH)\n",
    "if CohenHnonDir < .20:\n",
    "    print('Negligible')\n",
    "elif CohenHnonDir < .50:\n",
    "    print('Small')\n",
    "elif CohenHnonDir < .80:\n",
    "    print('Medium')\n",
    "else:\n",
    "    print('Large')    "
   ]
  },
  {
   "cell_type": "markdown",
   "metadata": {},
   "source": [
    "In case you prefer not to do this each time, below a quick function:"
   ]
  },
  {
   "cell_type": "code",
   "execution_count": 9,
   "metadata": {},
   "outputs": [],
   "source": [
    "# this function takes two proportions (a value between 0 and 1) as input and will return Cohen's nondirectional h, and an interpretation.\n",
    "\n",
    "def cohenH(prop1, prop2):\n",
    "    phi1 = 2*np.arcsin(prop1**0.5)\n",
    "    phi2 = 2*np.arcsin(prop2**0.5)    \n",
    "    cohensHdir = phi1 - phi2\n",
    "    cohensHnondir = abs(cohensHdir)\n",
    "    print('Cohen\\'s directional h: = ' + str(cohensHdir))\n",
    "    print('Cohen\\'s nondirectional h: = ' + str(cohensHnondir))\n",
    "\n",
    "    # for the interpretation\n",
    "    myText = 'Using Cohen\\'s qualification this could be considered: '\n",
    "    if CohenHnonDir < .05:\n",
    "        qual = 'Negligible'\n",
    "    elif CohenHnonDir < .15:\n",
    "        qual = 'Small'\n",
    "    elif CohenHnonDir < .25:\n",
    "        qual = 'Medium'\n",
    "    else:\n",
    "        qual = 'Large'\n",
    "    print(myText + qual)\n",
    "    \n",
    "    # return Cohen's h and qualification\n",
    "    return cohensHdir, qual"
   ]
  },
  {
   "cell_type": "markdown",
   "metadata": {},
   "source": [
    "Lets see if it works:"
   ]
  },
  {
   "cell_type": "code",
   "execution_count": 10,
   "metadata": {},
   "outputs": [
    {
     "name": "stdout",
     "output_type": "stream",
     "text": [
      "Cohen's directional h: = 0.9973466941237803\n",
      "Cohen's nondirectional h: = 0.9973466941237803\n",
      "Using Cohen's qualification this could be considered: Large\n"
     ]
    },
    {
     "data": {
      "text/plain": [
       "(0.9973466941237803, 'Large')"
      ]
     },
     "execution_count": 10,
     "metadata": {},
     "output_type": "execute_result"
    }
   ],
   "source": [
    "cohenH(myP1, myP2)"
   ]
  },
  {
   "cell_type": "code",
   "execution_count": null,
   "metadata": {},
   "outputs": [],
   "source": []
  },
  {
   "cell_type": "markdown",
   "metadata": {},
   "source": [
    "*Final remarks:*\n",
    "\n",
    "The arcsin calculation can also be done with the math library:"
   ]
  },
  {
   "cell_type": "code",
   "execution_count": 11,
   "metadata": {},
   "outputs": [
    {
     "data": {
      "text/plain": [
       "1.0347348369283933"
      ]
     },
     "execution_count": 11,
     "metadata": {},
     "output_type": "execute_result"
    }
   ],
   "source": [
    "import math\n",
    "\n",
    "math.asin(myP1**0.5)"
   ]
  },
  {
   "cell_type": "code",
   "execution_count": 12,
   "metadata": {},
   "outputs": [
    {
     "data": {
      "text/plain": [
       "1.0347348369283933"
      ]
     },
     "execution_count": 12,
     "metadata": {},
     "output_type": "execute_result"
    }
   ],
   "source": [
    "np.arcsin(myP1**0.5)"
   ]
  },
  {
   "cell_type": "markdown",
   "metadata": {},
   "source": [
    "## References\n",
    "Cohen, J. (1988). *Statistical power analysis for the behavioral sciences* (2nd ed). Hillsdale, N.J: L. Erlbaum Associates.\n",
    "\n",
    "Rosnow, R. L., & Rosenthal, R. (2003). Effect sizes for experimenting psychologists. *Canadian Journal of Experimental Psychology/Revue Canadienne de Psychologie Expérimentale, 57*(3), 221–237. doi:10.1037/h0087427"
   ]
  },
  {
   "cell_type": "code",
   "execution_count": null,
   "metadata": {},
   "outputs": [],
   "source": []
  }
 ],
 "metadata": {
  "kernelspec": {
   "display_name": "Python 3",
   "language": "python",
   "name": "python3"
  },
  "language_info": {
   "codemirror_mode": {
    "name": "ipython",
    "version": 3
   },
   "file_extension": ".py",
   "mimetype": "text/x-python",
   "name": "python",
   "nbconvert_exporter": "python",
   "pygments_lexer": "ipython3",
   "version": "3.8.2"
  }
 },
 "nbformat": 4,
 "nbformat_minor": 4
}
